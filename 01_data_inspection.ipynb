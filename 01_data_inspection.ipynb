{
 "cells": [
  {
   "cell_type": "code",
   "execution_count": null,
   "id": "786d3d01-5630-40f2-aa1c-90755c0f752e",
   "metadata": {},
   "outputs": [],
   "source": [
    "import pandas as pd\n",
    "\n",
    "# Loading raw data\n",
    "\n",
    "df_all = pd.read_csv(\"raw_data/exo_data.csv\", comment='#', on_bad_lines='skip', engine='python')\n",
    "\n",
    "print(\"Total enteries in raw data:\", len(df_all))\n",
    "\n"
   ]
  },
  {
   "cell_type": "code",
   "execution_count": null,
   "id": "503ec861-ba60-4cd7-b7a6-63e8ad0542e2",
   "metadata": {},
   "outputs": [],
   "source": [
    "# removing incomplete rows  \n",
    "df_clean = df_all.dropna(subset=['pl_orbsmax', 'st_rad', 'st_teff'])\n",
    "\n",
    "# removing redundant rows\n",
    "df_final = df_clean.drop_duplicates(subset='pl_name', keep = 'first').reset_index(drop=True)\n",
    "df_final.to_csv(\"raw_data/clean_raw_data.csv\")\n",
    "\n",
    "print(\"Planets with complete data:\", len(df_final))"
   ]
  },
  {
   "cell_type": "code",
   "execution_count": null,
   "id": "ad5e00d4-f203-4fed-9300-9c2609ffffae",
   "metadata": {},
   "outputs": [],
   "source": [
    "# selecting a sample data set, eventually to be used as a traning data\n",
    "\n",
    "\n",
    "# sorting data based on cold neptunes, temperate planets & hot jupiters\n",
    "hot = df_final[\n",
    "                (df_final[\"pl_orbsmax\"] < 0.5) &\n",
    "                (df_final[\"st_teff\"] > 5900)\n",
    "               ]\n",
    "hot = hot.copy()\n",
    "hot[\"type\"] = \"hot\"\n",
    "\n",
    "temperate = df_final[\n",
    "                    (df_final[\"pl_orbsmax\"] >= 0.8) &\n",
    "                    (df_final[\"pl_orbsmax\"] <= 1.2) &\n",
    "                    (df_final[\"st_teff\"] >= 5500) &\n",
    "                    (df_final[\"st_teff\"] <= 5900)\n",
    "                    ]\n",
    "temperate = temperate.copy()\n",
    "temperate[\"type\"] = \"temperate\"\n",
    "\n",
    "cold = df_final[\n",
    "                (df_final[\"pl_orbsmax\"] > 2.0) &\n",
    "                (df_final[\"st_teff\"] < 5900)\n",
    "               ]\n",
    "cold = cold.copy()\n",
    "cold[\"type\"] = \"cold\"\n",
    "\n",
    "# creating a sample of 15 exoplanets from each category\n",
    "hot_sample = hot.sample(n=min(700, len(hot)), random_state = 42)\n",
    "temperate_sample = temperate.sample(n=min(20, len(temperate)), random_state = 42)\n",
    "cold_sample = cold.sample(n=min(50, len(cold)), random_state = 42)\n",
    "\n",
    "# combining to make a large set: the final sample of training data\n",
    "\n",
    "df_sample = pd.concat([hot_sample, temperate_sample, cold_sample])\n",
    "df_sample.to_csv(\"raw_data/exoplanet_sample.csv\", index = False)\n",
    "\n",
    "print(len(cold) + len(hot) + len(temperate))\n",
    "print(len(hot))\n",
    "print(len(temperate))\n",
    "print(len(cold))"
   ]
  },
  {
   "cell_type": "code",
   "execution_count": null,
   "id": "ca51f78f-619e-4fe3-b478-f971e1e9b33b",
   "metadata": {},
   "outputs": [],
   "source": []
  }
 ],
 "metadata": {
  "kernelspec": {
   "display_name": "Python 3 (ipykernel)",
   "language": "python",
   "name": "python3"
  },
  "language_info": {
   "codemirror_mode": {
    "name": "ipython",
    "version": 3
   },
   "file_extension": ".py",
   "mimetype": "text/x-python",
   "name": "python",
   "nbconvert_exporter": "python",
   "pygments_lexer": "ipython3",
   "version": "3.12.7"
  }
 },
 "nbformat": 4,
 "nbformat_minor": 5
}
