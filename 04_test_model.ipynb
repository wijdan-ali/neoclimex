{
 "cells": [
  {
   "cell_type": "code",
   "execution_count": 10,
   "id": "fe99f506-5bb8-402c-84ac-959ed9c4e60e",
   "metadata": {},
   "outputs": [],
   "source": [
    "from pycaret.regression import *\n",
    "import numpy as np\n",
    "import pandas as pd"
   ]
  },
  {
   "cell_type": "code",
   "execution_count": 11,
   "id": "60bbb9eb-8304-465d-8980-31bc863e3662",
   "metadata": {},
   "outputs": [
    {
     "name": "stdout",
     "output_type": "stream",
     "text": [
      "Transformation Pipeline and Model Successfully Loaded\n"
     ]
    }
   ],
   "source": [
    "my_model = load_model('main_model')"
   ]
  },
  {
   "cell_type": "code",
   "execution_count": 12,
   "id": "a26dce36-6e3e-4386-86d2-3df1b4d83abb",
   "metadata": {},
   "outputs": [],
   "source": [
    "def prepare_inputs(orbsmax, steff):\n",
    "    f1 = steff\n",
    "    f2 = steff * (np.sqrt(1 / (2*(orbsmax)))) * ((1 - 0.3) ** 0.25)\n",
    "    f3 = np.log10(steff)\n",
    "    f4 = np.log10(1 / (2*orbsmax))\n",
    "    f5 = np.log10(steff * np.sqrt(1 / (2*orbsmax)) * ((1 - 0.3) ** 0.25))\n",
    "\n",
    "    input_data = pd.DataFrame([[f1, f2, f3, f4, f5]], columns=['feat1', 'feat2', 'feat3', 'feat4', 'feat5'])\n",
    "    return input_data"
   ]
  },
  {
   "cell_type": "code",
   "execution_count": 16,
   "id": "c2051aa6-8383-475f-94f1-47a1c0fe7448",
   "metadata": {},
   "outputs": [
    {
     "data": {
      "text/html": [
       "<div>\n",
       "<style scoped>\n",
       "    .dataframe tbody tr th:only-of-type {\n",
       "        vertical-align: middle;\n",
       "    }\n",
       "\n",
       "    .dataframe tbody tr th {\n",
       "        vertical-align: top;\n",
       "    }\n",
       "\n",
       "    .dataframe thead th {\n",
       "        text-align: right;\n",
       "    }\n",
       "</style>\n",
       "<table border=\"1\" class=\"dataframe\">\n",
       "  <thead>\n",
       "    <tr style=\"text-align: right;\">\n",
       "      <th></th>\n",
       "      <th>feat1</th>\n",
       "      <th>feat2</th>\n",
       "      <th>feat3</th>\n",
       "      <th>feat4</th>\n",
       "      <th>feat5</th>\n",
       "      <th>prediction_label</th>\n",
       "    </tr>\n",
       "  </thead>\n",
       "  <tbody>\n",
       "    <tr>\n",
       "      <th>0</th>\n",
       "      <td>5772</td>\n",
       "      <td>1637.133789</td>\n",
       "      <td>3.761326</td>\n",
       "      <td>-1.017033</td>\n",
       "      <td>3.214084</td>\n",
       "      <td>140.667997</td>\n",
       "    </tr>\n",
       "  </tbody>\n",
       "</table>\n",
       "</div>"
      ],
      "text/plain": [
       "   feat1        feat2     feat3     feat4     feat5  prediction_label\n",
       "0   5772  1637.133789  3.761326 -1.017033  3.214084        140.667997"
      ]
     },
     "execution_count": 16,
     "metadata": {},
     "output_type": "execute_result"
    }
   ],
   "source": [
    "#Input avg orbital distance(au) and star's temperature(K)\n",
    "orbsmax = 5.2\n",
    "steff = 5772\n",
    "\n",
    "predict_model(my_model, prepare_inputs(orbsmax, steff))"
   ]
  },
  {
   "cell_type": "code",
   "execution_count": null,
   "id": "aac13237-8902-4073-a0ac-cc7e0a618a06",
   "metadata": {},
   "outputs": [],
   "source": []
  }
 ],
 "metadata": {
  "kernelspec": {
   "display_name": "Python 3 (ipykernel)",
   "language": "python",
   "name": "python3"
  },
  "language_info": {
   "codemirror_mode": {
    "name": "ipython",
    "version": 3
   },
   "file_extension": ".py",
   "mimetype": "text/x-python",
   "name": "python",
   "nbconvert_exporter": "python",
   "pygments_lexer": "ipython3",
   "version": "3.9.23"
  }
 },
 "nbformat": 4,
 "nbformat_minor": 5
}
