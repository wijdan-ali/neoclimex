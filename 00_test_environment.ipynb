{
 "cells": [
  {
   "cell_type": "code",
   "execution_count": 2,
   "id": "1cfb88df-db65-402c-9a0e-00143ef46533",
   "metadata": {},
   "outputs": [
    {
     "name": "stdout",
     "output_type": "stream",
     "text": [
      "Luminoisty = 3.843932540871776e+26 W\n",
      "For the input = 5, model predicts = 10.000000000000002\n"
     ]
    }
   ],
   "source": [
    "import numpy as np\n",
    "import pandas as pd\n",
    "import matplotlib.pyplot as plt\n",
    "from astropy import units as u, constants as const\n",
    "from sklearn.linear_model import LinearRegression \n",
    "\n",
    "#Test formula\n",
    "\n",
    "T_sun = 5778 * u.K\n",
    "R_sun = const.R_sun\n",
    "sigma = const.sigma_sb\n",
    "L_sun = 4 * np.pi * R_sun**2 * sigma * T_sun**4\n",
    "print (\"Luminoisty =\", L_sun)\n",
    "\n",
    "#Test ML Model\n",
    "X = np.array([[1],[2],[3],[4]]).reshape(-1,1)\n",
    "y = np.array([2,4,6,8])\n",
    "model = LinearRegression().fit(X,y)\n",
    "print (\"For the input = 5, model predicts =\", model.predict([[5]])[0])"
   ]
  },
  {
   "cell_type": "code",
   "execution_count": null,
   "id": "992d9741-ba32-4de7-8869-a348cbf3ce48",
   "metadata": {},
   "outputs": [],
   "source": []
  }
 ],
 "metadata": {
  "kernelspec": {
   "display_name": "Python 3 (ipykernel)",
   "language": "python",
   "name": "python3"
  },
  "language_info": {
   "codemirror_mode": {
    "name": "ipython",
    "version": 3
   },
   "file_extension": ".py",
   "mimetype": "text/x-python",
   "name": "python",
   "nbconvert_exporter": "python",
   "pygments_lexer": "ipython3",
   "version": "3.12.7"
  }
 },
 "nbformat": 4,
 "nbformat_minor": 5
}
